{
 "cells": [
  {
   "cell_type": "code",
   "execution_count": 1,
   "id": "609e82f5",
   "metadata": {},
   "outputs": [],
   "source": [
    "from huggingface_hub import delete_file, upload_file, delete_repo, delete_folder"
   ]
  },
  {
   "cell_type": "code",
   "execution_count": null,
   "id": "90f20218",
   "metadata": {},
   "outputs": [],
   "source": [
    "path_in_repo = \"\"\n",
    "repo_id = \"\"\n",
    "delete_folder(\n",
    "    path_in_repo=\"\",        # 리포 내부 경로 (파일명)\n",
    "    repo_id=\"\",             # 삭제할 리포 ID\n",
    "    repo_type=\"model\",)   "
   ]
  },
  {
   "cell_type": "code",
   "execution_count": null,
   "id": "d1b85367",
   "metadata": {},
   "outputs": [],
   "source": [
    "C:\\Users\\jw160\\project\\ai_management\\ai_model_dir\\gguf\\kanana\\kanana-nano-2.1b-instruct.gguf"
   ]
  },
  {
   "cell_type": "code",
   "execution_count": null,
   "id": "72ed8a17",
   "metadata": {},
   "outputs": [],
   "source": [
    "# huggingface-cli repo create jwlee-ai/kanana-nano-2.1b-instruct --type model"
   ]
  },
  {
   "cell_type": "code",
   "execution_count": null,
   "id": "4fcf328d",
   "metadata": {},
   "outputs": [],
   "source": [
    "# huggingface-cli repo create jwlee-ai/{모델명} --type model\n",
    "# huggingface-cli upload jwlee-ai/kanana-nano-2.1b-instruc-q4-k-m.gguf ./ai_model_dir/gguf/kanana/kanana-nano-2.1b-instruc-q4-k-m.gguf"
   ]
  }
 ],
 "metadata": {
  "kernelspec": {
   "display_name": ".venv_ai_management",
   "language": "python",
   "name": "python3"
  },
  "language_info": {
   "codemirror_mode": {
    "name": "ipython",
    "version": 3
   },
   "file_extension": ".py",
   "mimetype": "text/x-python",
   "name": "python",
   "nbconvert_exporter": "python",
   "pygments_lexer": "ipython3",
   "version": "3.11.4"
  }
 },
 "nbformat": 4,
 "nbformat_minor": 5
}
