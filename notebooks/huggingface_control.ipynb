{
 "cells": [
  {
   "cell_type": "code",
   "execution_count": null,
   "id": "609e82f5",
   "metadata": {},
   "outputs": [],
   "source": [
    "from huggingface_hub import delete_file, upload_file, delete_repo, delete_folder"
   ]
  },
  {
   "cell_type": "code",
   "execution_count": null,
   "id": "90f20218",
   "metadata": {},
   "outputs": [],
   "source": [
    "path_in_repo = \"\"\n",
    "repo_id = \"\"\n",
    "delete_folder(\n",
    "    path_in_repo=\"\",        # 리포 내부 경로 (파일명)\n",
    "    repo_id=\"\",             # 삭제할 리포 ID\n",
    "    repo_type=\"model\",)   "
   ]
  },
  {
   "cell_type": "code",
   "execution_count": null,
   "id": "c80d0efb",
   "metadata": {},
   "outputs": [],
   "source": [
    "model_name = \"\"\n",
    "path_in_repo = \"\"\n",
    "repo_id = \"\"\n",
    "upload_file(\n",
    "    path_or_fileobj=f\"../ai_model_dir/gguf/{model_name}\",  # 업로드할 파일 경로\n",
    "    path_in_repo=path_in_repo,        # 리포 내부 경로 (파일명)\n",
    "    repo_id=repo_id,             # 업로드할 리포 ID\n",
    "    repo_type=\"model\",)"
   ]
  },
  {
   "cell_type": "code",
   "execution_count": null,
   "id": "4fcf328d",
   "metadata": {},
   "outputs": [],
   "source": []
  }
 ],
 "metadata": {
  "kernelspec": {
   "display_name": ".venv",
   "language": "python",
   "name": "python3"
  },
  "language_info": {
   "codemirror_mode": {
    "name": "ipython",
    "version": 3
   },
   "file_extension": ".py",
   "mimetype": "text/x-python",
   "name": "python",
   "nbconvert_exporter": "python",
   "pygments_lexer": "ipython3",
   "version": "3.11.4"
  }
 },
 "nbformat": 4,
 "nbformat_minor": 5
}
