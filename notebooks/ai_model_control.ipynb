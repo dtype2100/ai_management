{
 "cells": [
  {
   "cell_type": "code",
   "execution_count": 1,
   "id": "bce9392e",
   "metadata": {},
   "outputs": [],
   "source": [
    "import os\n",
    "import sys\n",
    "sys.path.append(os.path.dirname(os.getcwd()))\n",
    "from ai_model_utils.model_manager import download_all_models\n",
    "from ai_model_utils.remover import delete_model"
   ]
  },
  {
   "cell_type": "code",
   "execution_count": 2,
   "id": "3930451e",
   "metadata": {},
   "outputs": [
    {
     "name": "stderr",
     "output_type": "stream",
     "text": [
      "c:\\Users\\jw160\\project\\ai_management\\.venv_ai_management\\Lib\\site-packages\\huggingface_hub\\file_download.py:980: UserWarning: `local_dir_use_symlinks` parameter is deprecated and will be ignored. The process to download files to a local folder has been updated and do not rely on symlinks anymore. You only need to pass a destination folder as`local_dir`.\n",
      "For more details, check out https://huggingface.co/docs/huggingface_hub/main/en/guides/download#download-files-to-local-folder.\n",
      "  warnings.warn(\n"
     ]
    },
    {
     "data": {
      "application/vnd.jupyter.widget-view+json": {
       "model_id": "9e2066c3cd2a41a2afe4d4b903288298",
       "version_major": 2,
       "version_minor": 0
      },
      "text/plain": [
       "Fetching 3 files:   0%|          | 0/3 [00:00<?, ?it/s]"
      ]
     },
     "metadata": {},
     "output_type": "display_data"
    },
    {
     "data": {
      "application/vnd.jupyter.widget-view+json": {
       "model_id": "cb6e9fa0b73b48808c6b01a99dd03c21",
       "version_major": 2,
       "version_minor": 0
      },
      "text/plain": [
       ".gitattributes:   0%|          | 0.00/1.95k [00:00<?, ?B/s]"
      ]
     },
     "metadata": {},
     "output_type": "display_data"
    },
    {
     "data": {
      "application/vnd.jupyter.widget-view+json": {
       "model_id": "d53be2e4ffec4c409ae8d59f5669ba0b",
       "version_major": 2,
       "version_minor": 0
      },
      "text/plain": [
       "gemma-3-1b-it-q4_0.gguf:   0%|          | 0.00/1.00G [00:00<?, ?B/s]"
      ]
     },
     "metadata": {},
     "output_type": "display_data"
    },
    {
     "data": {
      "text/plain": [
       "'C:\\\\Users\\\\jw160\\\\project\\\\ai_management\\\\ai_model_dir\\\\hf\\\\gemma\\\\gemma-3-1b-it-qat-q4_0-gguf'"
      ]
     },
     "execution_count": 2,
     "metadata": {},
     "output_type": "execute_result"
    }
   ],
   "source": [
    "from huggingface_hub import snapshot_download\n",
    "snapshot_download(\n",
    "            repo_id=\"google/gemma-3-1b-it-qat-q4_0-gguf\",\n",
    "            revision=\"main\",\n",
    "            local_dir=\"../ai_model_dir/hf/gemma/gemma-3-1b-it-qat-q4_0-gguf\",\n",
    "            local_dir_use_symlinks=False\n",
    "            )"
   ]
  },
  {
   "cell_type": "code",
   "execution_count": null,
   "id": "2dbcf928",
   "metadata": {},
   "outputs": [],
   "source": [
    "download_all_models(\"ai_models_config.yaml\")"
   ]
  },
  {
   "cell_type": "code",
   "execution_count": null,
   "id": "0241a697",
   "metadata": {},
   "outputs": [],
   "source": []
  }
 ],
 "metadata": {
  "kernelspec": {
   "display_name": ".venv_ai_management",
   "language": "python",
   "name": "python3"
  },
  "language_info": {
   "codemirror_mode": {
    "name": "ipython",
    "version": 3
   },
   "file_extension": ".py",
   "mimetype": "text/x-python",
   "name": "python",
   "nbconvert_exporter": "python",
   "pygments_lexer": "ipython3",
   "version": "3.11.4"
  }
 },
 "nbformat": 4,
 "nbformat_minor": 5
}
