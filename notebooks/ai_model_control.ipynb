{
 "cells": [
  {
   "cell_type": "code",
   "execution_count": 7,
   "id": "bce9392e",
   "metadata": {},
   "outputs": [],
   "source": [
    "import os\n",
    "import sys\n",
    "sys.path.append(os.path.dirname(os.getcwd()))\n",
    "from ai_model_utils.model_manager import download_all_models\n",
    "from ai_model_utils.remover import delete_model"
   ]
  },
  {
   "cell_type": "code",
   "execution_count": null,
   "id": "2dbcf928",
   "metadata": {},
   "outputs": [],
   "source": [
    "download_all_models(\"ai_models_config.yaml\")"
   ]
  },
  {
   "cell_type": "code",
   "execution_count": null,
   "id": "0241a697",
   "metadata": {},
   "outputs": [],
   "source": []
  }
 ],
 "metadata": {
  "kernelspec": {
   "display_name": ".venv",
   "language": "python",
   "name": "python3"
  },
  "language_info": {
   "codemirror_mode": {
    "name": "ipython",
    "version": 3
   },
   "file_extension": ".py",
   "mimetype": "text/x-python",
   "name": "python",
   "nbconvert_exporter": "python",
   "pygments_lexer": "ipython3",
   "version": "3.11.4"
  }
 },
 "nbformat": 4,
 "nbformat_minor": 5
}
