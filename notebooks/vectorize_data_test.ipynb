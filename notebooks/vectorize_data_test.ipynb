{
 "cells": [
  {
   "cell_type": "code",
   "execution_count": 1,
   "id": "1426adf3",
   "metadata": {},
   "outputs": [],
   "source": [
    "import os\n",
    "import glob \n",
    "import mteb\n",
    "import json\n",
    "import yaml\n",
    "import shutil\n",
    "import pandas as pd\n",
    "from pathlib import Path\n",
    "from sentence_transformers import SentenceTransformer\n",
    "\n",
    "from langchain_community.vectorstores import FAISS\n",
    "from langchain_huggingface import HuggingFaceEmbeddings\n",
    "from langchain_community.document_loaders.csv_loader import CSVLoader\n",
    "from langchain_community.document_loaders import DirectoryLoader\n"
   ]
  },
  {
   "cell_type": "code",
   "execution_count": 3,
   "id": "bfb2866e",
   "metadata": {},
   "outputs": [
    {
     "name": "stderr",
     "output_type": "stream",
     "text": [
      "Loader not specified for model ../ai_model_dir/hf/kanana/kanana-nano-2.1b-embedding, loading using sentence transformers.\n",
      "No sentence-transformers model found with name ../ai_model_dir/hf/kanana/kanana-nano-2.1b-embedding. Creating a new one with mean pooling.\n"
     ]
    },
    {
     "name": "stdout",
     "output_type": "stream",
     "text": [
      "모델 평가 중: ../ai_model_dir/hf/kanana/kanana-nano-2.1b-embedding\n"
     ]
    },
    {
     "data": {
      "text/html": [
       "<pre style=\"white-space:pre;overflow-x:auto;line-height:normal;font-family:Menlo,'DejaVu Sans Mono',consolas,'Courier New',monospace\"><span style=\"color: #262626; text-decoration-color: #262626\">───────────────────────────────────────────────── </span><span style=\"font-weight: bold\">Selected tasks </span><span style=\"color: #262626; text-decoration-color: #262626\"> ─────────────────────────────────────────────────</span>\n",
       "</pre>\n"
      ],
      "text/plain": [
       "\u001b[38;5;235m───────────────────────────────────────────────── \u001b[0m\u001b[1mSelected tasks \u001b[0m\u001b[38;5;235m ─────────────────────────────────────────────────\u001b[0m\n"
      ]
     },
     "metadata": {},
     "output_type": "display_data"
    },
    {
     "data": {
      "text/html": [
       "<pre style=\"white-space:pre;overflow-x:auto;line-height:normal;font-family:Menlo,'DejaVu Sans Mono',consolas,'Courier New',monospace\"><span style=\"font-weight: bold\">Retrieval</span>\n",
       "</pre>\n"
      ],
      "text/plain": [
       "\u001b[1mRetrieval\u001b[0m\n"
      ]
     },
     "metadata": {},
     "output_type": "display_data"
    },
    {
     "data": {
      "text/html": [
       "<pre style=\"white-space:pre;overflow-x:auto;line-height:normal;font-family:Menlo,'DejaVu Sans Mono',consolas,'Courier New',monospace\">    - AutoRAGRetrieval, <span style=\"color: #626262; text-decoration-color: #626262; font-style: italic\">s2p</span>\n",
       "</pre>\n"
      ],
      "text/plain": [
       "    - AutoRAGRetrieval, \u001b[3;38;5;241ms2p\u001b[0m\n"
      ]
     },
     "metadata": {},
     "output_type": "display_data"
    },
    {
     "data": {
      "text/html": [
       "<pre style=\"white-space:pre;overflow-x:auto;line-height:normal;font-family:Menlo,'DejaVu Sans Mono',consolas,'Courier New',monospace\">\n",
       "\n",
       "</pre>\n"
      ],
      "text/plain": [
       "\n",
       "\n"
      ]
     },
     "metadata": {},
     "output_type": "display_data"
    },
    {
     "data": {
      "text/html": [
       "<pre style=\"white-space:pre;overflow-x:auto;line-height:normal;font-family:Menlo,'DejaVu Sans Mono',consolas,'Courier New',monospace\"><span style=\"font-weight: bold\">STS</span>\n",
       "</pre>\n"
      ],
      "text/plain": [
       "\u001b[1mSTS\u001b[0m\n"
      ]
     },
     "metadata": {},
     "output_type": "display_data"
    },
    {
     "data": {
      "text/html": [
       "<pre style=\"white-space:pre;overflow-x:auto;line-height:normal;font-family:Menlo,'DejaVu Sans Mono',consolas,'Courier New',monospace\">    - KorSTS, <span style=\"color: #626262; text-decoration-color: #626262; font-style: italic\">s2s</span>\n",
       "</pre>\n"
      ],
      "text/plain": [
       "    - KorSTS, \u001b[3;38;5;241ms2s\u001b[0m\n"
      ]
     },
     "metadata": {},
     "output_type": "display_data"
    },
    {
     "data": {
      "text/html": [
       "<pre style=\"white-space:pre;overflow-x:auto;line-height:normal;font-family:Menlo,'DejaVu Sans Mono',consolas,'Courier New',monospace\">\n",
       "\n",
       "</pre>\n"
      ],
      "text/plain": [
       "\n",
       "\n"
      ]
     },
     "metadata": {},
     "output_type": "display_data"
    },
    {
     "data": {
      "application/vnd.jupyter.widget-view+json": {
       "model_id": "ebb1b0dc55e3496a9b8447b9d47276d5",
       "version_major": 2,
       "version_minor": 0
      },
      "text/plain": [
       "Batches:   0%|          | 0/1 [00:00<?, ?it/s]"
      ]
     },
     "metadata": {},
     "output_type": "display_data"
    },
    {
     "name": "stderr",
     "output_type": "stream",
     "text": [
      "Error while evaluating AutoRAGRetrieval: Kanana2VecModel.forward() missing 1 required positional argument: 'pool_mask'\n"
     ]
    },
    {
     "name": "stdout",
     "output_type": "stream",
     "text": [
      "오류 발생: ../ai_model_dir/hf/kanana/kanana-nano-2.1b-embedding 모델 평가 중 실패\n",
      "오류 메시지: Kanana2VecModel.forward() missing 1 required positional argument: 'pool_mask'\n"
     ]
    }
   ],
   "source": [
    "# ai_config/load_ai_config.yaml 파일 로드\n",
    "with open('../ai_config/load_embedding_config.yaml', 'r') as f:\n",
    "    config = yaml.safe_load(f)\n",
    "\n",
    "# 모델 디렉토리 존재 여부 확인 및 생성 \n",
    "results = []\n",
    "for model_config in config['models']:\n",
    "    model_path = f\"../{model_config['target_dir']}\"\n",
    "    \n",
    "    # 모델 디렉토리가 존재하는지 확인\n",
    "    if not os.path.exists(model_path):\n",
    "        print(f\"경고: {model_path} 경로가 존재하지 않습니다. 해당 모델을 건너뜁니다.\")\n",
    "        continue\n",
    "        \n",
    "    print(f\"모델 평가 중: {model_path}\")\n",
    "    \n",
    "    try:\n",
    "        revision = \"main\"\n",
    "        model = mteb.get_model(model_path, revision=revision, trust_remote_code=True)\n",
    "        \n",
    "        tasks = mteb.get_tasks(tasks=[\"AutoRAGRetrieval\", \"KorSTS\"])\n",
    "        evaluation = mteb.MTEB(tasks=tasks)\n",
    "        \n",
    "        # 각 모델별 결과 저장 폴더 생성\n",
    "        model_name = model_path.split('/')[-1]\n",
    "        os.makedirs(f\"results/{model_name}\", exist_ok=True)\n",
    "        \n",
    "        result = evaluation.run(model, output_folder=f\"results/{model_name}\")\n",
    "        results.append(result)\n",
    "        \n",
    "    except Exception as e:\n",
    "        print(f\"오류 발생: {model_path} 모델 평가 중 실패\") \n",
    "        print(f\"오류 메시지: {str(e)}\")\n",
    "        continue\n"
   ]
  },
  {
   "cell_type": "code",
   "execution_count": null,
   "id": "3482718f",
   "metadata": {},
   "outputs": [],
   "source": [
    "# Define the sentence-transformers model name\n",
    "revision = \"main\"  # 또는 원하는 커밋 해시, 태그 등\n",
    "\n",
    "model = mteb.get_model(EMBEDDING_MODEL_PATH, revision=revision)\n",
    "\n",
    "tasks = mteb.get_tasks(tasks=[\"AutoRAGRetrieval\", \"KorSTS\"])\n",
    "evaluation = mteb.MTEB(tasks=tasks)\n",
    "results = evaluation.run(model, output_folder=f\"results/BGE-m3-ko\")\n",
    "\n",
    "# 결과 출력\n",
    "for result in results:\n",
    "    print(f\"Task: {result.task_name}\")\n",
    "    for metric, score in result.scores.items():\n",
    "        print(f\"  {metric}: {score}\")"
   ]
  },
  {
   "cell_type": "code",
   "execution_count": 56,
   "id": "0da42d61",
   "metadata": {},
   "outputs": [],
   "source": [
    "import shutil\n",
    "import glob, os\n",
    "from pathlib import Path\n",
    "if not os.path.exists(\"./results/flat\"):\n",
    "    os.makedirs(\"./results/flat\", exist_ok=True)\n",
    "\n",
    "if not os.path.exists(\"./results/flat/BGE-m3-ko\"):\n",
    "    os.makedirs(\"./results/flat/BGE-m3-ko\", exist_ok=True)\n",
    "\n",
    "\n",
    "for file in Path(\"./results/BGE-m3-ko\").rglob(\"*.json\"):\n",
    "    if file.name.endswith(\"KorSTS.json\"):\n",
    "        shutil.copy(file, \"./results/flat/BGE-m3-ko/KorSTS.json\")\n",
    "    elif file.name.endswith(\"AutoRAGRetrieval.json\"):\n",
    "        shutil.copy(file, \"./results/flat/BGE-m3-ko/AutoRAGRetrieval.json\")"
   ]
  },
  {
   "cell_type": "code",
   "execution_count": null,
   "id": "025b3803",
   "metadata": {},
   "outputs": [],
   "source": [
    "for file in Path(\"./results/BGE-m3-ko\").rglob(\"*.json\"):\n",
    "    print(file)\n"
   ]
  },
  {
   "cell_type": "code",
   "execution_count": null,
   "id": "632a0f4a",
   "metadata": {},
   "outputs": [],
   "source": [
    "import json\n",
    "import pandas as pd\n",
    "from pathlib import Path\n",
    "\n",
    "# 결과 폴더 경로\n",
    "score_dir = Path(\"./results/test_score\")\n",
    "\n",
    "# 파일별로 추출할 지표 정의\n",
    "score_keys = {\n",
    "    \"KorSTS.json\": [\"cosine_spearman\"],\n",
    "    \"AutoRAGRetrieval.json\": [\"recall_at_1\", \"recall_at_5\", \"mrr_at_10\"]\n",
    "}\n",
    "\n",
    "# 결과 저장 리스트\n",
    "rows = []\n",
    "\n",
    "# 모든 json 파일 순회\n",
    "for json_file in score_dir.glob(\"*.json\"):\n",
    "    if json_file.name == \"model_meta.json\":  # ← .name 속성으로 비교!\n",
    "        continue\n",
    "    with open(json_file, \"r\", encoding=\"utf-8\") as f:\n",
    "        data = json.load(f)\n",
    "        scores = data.get(\"scores\", {})\n",
    "        if isinstance(scores, dict) and \"test\" in scores and isinstance(scores[\"test\"], list):\n",
    "            scores = scores[\"test\"][0]\n",
    "        metrics = score_keys.get(json_file.name, [])\n",
    "        filtered = {metric: scores.get(metric, None) for metric in metrics}\n",
    "        filtered[\"task\"] = json_file.stem\n",
    "        rows.append(filtered)\n",
    "\n",
    "# DataFrame 생성\n",
    "df = pd.DataFrame(rows)\n",
    "cols = [\"task\", \"cosine_spearman\", \"recall_at_1\", \"recall_at_5\", \"mrr_at_10\"]\n",
    "df = df.reindex(columns=cols)\n",
    "\n",
    "print(df)"
   ]
  },
  {
   "cell_type": "code",
   "execution_count": null,
   "id": "48dcb5ff",
   "metadata": {},
   "outputs": [],
   "source": [
    "df.fillna(\"없음\", inplace=True)   \n",
    "df['model'] = \"multilingual-e5-large-instruct\""
   ]
  },
  {
   "cell_type": "code",
   "execution_count": 103,
   "id": "5ea98112",
   "metadata": {},
   "outputs": [],
   "source": [
    "\n",
    "df.to_csv(\"./results/csv/multilingual-e5-large-instruct.csv\", index=False)"
   ]
  },
  {
   "cell_type": "code",
   "execution_count": 96,
   "id": "b7a603f4",
   "metadata": {},
   "outputs": [],
   "source": [
    "csv_path = Path(\"./results/csv\").rglob(\"*.csv\")"
   ]
  },
  {
   "cell_type": "code",
   "execution_count": null,
   "id": "ddf3bcb7",
   "metadata": {},
   "outputs": [],
   "source": [
    "import pandas as pd\n",
    "from pathlib import Path\n",
    "\n",
    "# 모든 csv 파일 경로 찾기\n",
    "csv_files = list(Path(\"./results/csv\").glob(\"*.csv\"))\n",
    "\n",
    "# DataFrame 리스트에 모두 읽기\n",
    "df_list = [pd.read_csv(f) for f in csv_files]\n",
    "\n",
    "# 하나의 DataFrame으로 합치기\n",
    "combined_df = pd.concat(df_list, ignore_index=True)\n",
    "\n",
    "# 합친 결과를 새 파일로 저장\n",
    "combined_df.to_csv(\"./results/csv/combined_results.csv\", index=False)\n",
    "\n",
    "print(\"모든 csv 파일을 합쳐서 combined_results.csv로 저장했습니다.\")"
   ]
  },
  {
   "cell_type": "code",
   "execution_count": null,
   "id": "5ecd2fbb",
   "metadata": {},
   "outputs": [],
   "source": [
    "combined_df"
   ]
  },
  {
   "cell_type": "code",
   "execution_count": null,
   "id": "b7b3ba0f",
   "metadata": {},
   "outputs": [],
   "source": [
    "parquet_docs = loader.load()"
   ]
  },
  {
   "cell_type": "code",
   "execution_count": 44,
   "id": "9132ced8",
   "metadata": {},
   "outputs": [],
   "source": [
    "csv_docs = loader.load()\n",
    "\n",
    "# 임베딩 모델 생성\n",
    "embedding_model = HuggingFaceEmbeddings(model_name=EMBEDDING_MODEL_PATH)\n",
    "\n",
    "# 문서 텍스트 추출 (Document 객체라면 .page_content 사용)\n",
    "texts = [doc.page_content for doc in csv_docs]\n",
    "\n",
    "# FAISS 인덱스 생성\n",
    "vectorstore = FAISS.from_texts(texts, embedding_model)\n",
    "\n",
    "# 인덱스 저장\n",
    "vectorstore.save_local(\"../data/vectorstore/faiss_index\")\n"
   ]
  },
  {
   "cell_type": "code",
   "execution_count": 6,
   "id": "302cc7b0",
   "metadata": {},
   "outputs": [],
   "source": [
    "embedding = HuggingFaceEmbeddings(\n",
    "    model_name=EMBEDDING_MODEL_PATH,\n",
    "    model_kwargs={\"device\": \"cpu\"},                    # GPU 사용 안함\n",
    "    encode_kwargs={\"normalize_embeddings\": True}       # 임베딩 정규화 (권장)\n",
    ")\n",
    "vectorstore = FAISS.load_local(VECTORSTORE_PATH, embedding, allow_dangerous_deserialization=True)"
   ]
  },
  {
   "cell_type": "code",
   "execution_count": 7,
   "id": "43077e0f",
   "metadata": {},
   "outputs": [],
   "source": [
    "retriever = vectorstore.as_retriever(search_kwargs={\"k\": 2})  # top-3 문서 검색"
   ]
  },
  {
   "cell_type": "code",
   "execution_count": null,
   "id": "e62c6ebe",
   "metadata": {},
   "outputs": [],
   "source": [
    "retriever.get_relevant_documents(\"개인정보 유출이란?\")  # 검색 쿼리"
   ]
  },
  {
   "cell_type": "code",
   "execution_count": null,
   "id": "e45886de",
   "metadata": {},
   "outputs": [],
   "source": [
    "# 검색 쿼리 입력\n",
    "query = \"개인정보\"\n",
    "\n",
    "# top-k 유사 문서 검색\n",
    "docs = vectorstore.similarity_search(query, k=3)\n",
    "\n",
    "# 결과 출력\n",
    "for i, doc in enumerate(docs):\n",
    "    print(f\"결과 {i+1}:\\n{doc.page_content}\\n\")\n"
   ]
  },
  {
   "cell_type": "code",
   "execution_count": null,
   "id": "d691c325",
   "metadata": {},
   "outputs": [],
   "source": []
  }
 ],
 "metadata": {
  "kernelspec": {
   "display_name": ".venv_ai_management",
   "language": "python",
   "name": "python3"
  },
  "language_info": {
   "codemirror_mode": {
    "name": "ipython",
    "version": 3
   },
   "file_extension": ".py",
   "mimetype": "text/x-python",
   "name": "python",
   "nbconvert_exporter": "python",
   "pygments_lexer": "ipython3",
   "version": "3.11.4"
  }
 },
 "nbformat": 4,
 "nbformat_minor": 5
}
