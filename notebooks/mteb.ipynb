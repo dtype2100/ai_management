{
 "cells": [
  {
   "cell_type": "code",
   "execution_count": 2,
   "metadata": {},
   "outputs": [
    {
     "name": "stderr",
     "output_type": "stream",
     "text": [
      "c:\\Users\\jw160\\project\\ai_management\\.venv_ai_management\\Lib\\site-packages\\tqdm\\auto.py:21: TqdmWarning: IProgress not found. Please update jupyter and ipywidgets. See https://ipywidgets.readthedocs.io/en/stable/user_install.html\n",
      "  from .autonotebook import tqdm as notebook_tqdm\n"
     ]
    }
   ],
   "source": [
    "import mteb\n",
    "kor_lis = mteb.get_tasks(languages=[\"kor\"])"
   ]
  },
  {
   "cell_type": "code",
   "execution_count": 3,
   "metadata": {},
   "outputs": [
    {
     "name": "stdout",
     "output_type": "stream",
     "text": [
      "STS17MultilingualVisualSTSMultilingual(name='VisualSTS17Multilingual', languages=['ara', 'deu', 'eng', '...'])\n",
      "AutoRAGRetrieval(name='AutoRAGRetrieval', languages=['kor'])\n",
      "KoStrategyQA(name='Ko-StrategyQA', languages=['kor'])\n",
      "BelebeleRetrieval(name='BelebeleRetrieval', languages=['eng', 'kor'])\n",
      "MIRACLRetrieval(name='MIRACLRetrieval', languages=['kor'])\n",
      "MIRACLRetrievalHardNegatives(name='MIRACLRetrievalHardNegatives', languages=['kor'])\n",
      "MrTidyRetrieval(name='MrTidyRetrieval', languages=['kor'])\n",
      "MultiLongDocRetrieval(name='MultiLongDocRetrieval', languages=['kor'])\n",
      "PublicHealthQARetrieval(name='PublicHealthQA', languages=['kor'])\n",
      "WebFAQRetrieval(name='WebFAQRetrieval', languages=['kor'])\n",
      "XPQARetrieval(name='XPQARetrieval', languages=['eng', 'kor'])\n",
      "WITT2IRetrieval(name='WITT2IRetrieval', languages=['kor'])\n",
      "XM3600T2IRetrieval(name='XM3600T2IRetrieval', languages=['kor'])\n",
      "STS17MultilingualVisualSTS(name='STS17MultilingualVisualSTS', languages=['kor'])\n",
      "KlueTC(name='KLUE-TC', languages=['kor'])\n",
      "KorFin(name='KorFin', languages=['kor'])\n",
      "KorHateClassification(name='KorHateClassification', languages=['kor'])\n",
      "KorSarcasmClassification(name='KorSarcasmClassification', languages=['kor'])\n",
      "MassiveIntentClassification(name='MassiveIntentClassification', languages=['kor'])\n",
      "MassiveScenarioClassification(name='MassiveScenarioClassification', languages=['kor'])\n",
      "MultilingualSentimentClassification(name='MultilingualSentimentClassification', languages=['kor'])\n",
      "SIB200Classification(name='SIB200Classification', languages=['kor'])\n",
      "FloresBitextMining(name='FloresBitextMining', languages=['ace', 'acm', 'acq', '...'])\n",
      "IWSLT2017BitextMining(name='IWSLT2017BitextMining', languages=['eng', 'kor'])\n",
      "NTREXBitextMining(name='NTREXBitextMining', languages=['arb', 'ben', 'deu', '...'])\n",
      "TatoebaBitextMining(name='Tatoeba', languages=['eng', 'kor'])\n",
      "WebFAQBitextMiningQuestions(name='WebFAQBitextMiningQuestions', languages=['eng', 'jpn', 'kor', '...'])\n",
      "WebFAQBitextMiningQAs(name='WebFAQBitextMiningQAs', languages=['eng', 'jpn', 'kor', '...'])\n",
      "KlueMrcDomainClustering(name='KlueMrcDomainClustering', languages=['kor'])\n",
      "KlueYnatMrcCategoryClustering(name='KlueYnatMrcCategoryClustering', languages=['kor'])\n",
      "SIB200ClusteringFast(name='SIB200ClusteringS2S', languages=['kor'])\n",
      "KorHateSpeechMLClassification(name='KorHateSpeechMLClassification', languages=['kor'])\n",
      "KlueNLI(name='KLUE-NLI', languages=['kor'])\n",
      "PawsXPairClassification(name='PawsXPairClassification', languages=['kor'])\n",
      "PubChemWikiPairClassification(name='PubChemWikiPairClassification', languages=['eng', 'kor'])\n",
      "MIRACLReranking(name='MIRACLReranking', languages=['kor'])\n",
      "KlueSTS(name='KLUE-STS', languages=['kor'])\n",
      "KorSTS(name='KorSTS', languages=['kor'])\n",
      "STS17Crosslingual(name='STS17', languages=['kor'])\n"
     ]
    }
   ],
   "source": [
    "for i in kor_lis:\n",
    "    print(i)"
   ]
  },
  {
   "cell_type": "code",
   "execution_count": null,
   "metadata": {},
   "outputs": [],
   "source": []
  }
 ],
 "metadata": {
  "kernelspec": {
   "display_name": ".venv_ai_management",
   "language": "python",
   "name": "python3"
  },
  "language_info": {
   "codemirror_mode": {
    "name": "ipython",
    "version": 3
   },
   "file_extension": ".py",
   "mimetype": "text/x-python",
   "name": "python",
   "nbconvert_exporter": "python",
   "pygments_lexer": "ipython3",
   "version": "3.11.4"
  }
 },
 "nbformat": 4,
 "nbformat_minor": 2
}
